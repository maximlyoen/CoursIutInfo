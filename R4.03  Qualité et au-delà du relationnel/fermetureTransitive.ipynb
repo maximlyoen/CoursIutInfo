{
 "cells": [
  {
   "cell_type": "code",
   "execution_count": 26,
   "metadata": {},
   "outputs": [
    {
     "name": "stdout",
     "output_type": "stream",
     "text": [
      "{'g', 'c'}\n",
      "C1 = {'b', 'd', 'a'}\n",
      "C2 = {'g', ('d', 'e')}\n",
      "C3 = {('b', 'e'), 'o', 'i'}\n",
      "C4 = {'j', 'e'}\n",
      "C5 = {('k', 'l', 'm', 't'), ('e', 'f')}\n",
      "C6 = {('b', 'f'), 't'}\n",
      "C7 = {('f', 'g'), ('p', 'r', 's'), 'n'}\n",
      "C8 = {'h', ('n', 't')}\n",
      "C9 = {('c', 'j'), 'p', 't'}\n",
      "C10 = {'q', ('k', 'm')}\n"
     ]
    },
    {
     "data": {
      "text/plain": [
       "[{'a', 'b', 'd'},\n",
       " {('d', 'e'), 'g'},\n",
       " {('b', 'e'), 'i', 'o'},\n",
       " {'e', 'j'},\n",
       " {('e', 'f'), ('k', 'l', 'm', 't')},\n",
       " {('b', 'f'), 't'},\n",
       " {('f', 'g'), ('p', 'r', 's'), 'n'},\n",
       " {('n', 't'), 'h'},\n",
       " {('c', 'j'), 'p', 't'},\n",
       " {('k', 'm'), 'q'}]"
      ]
     },
     "execution_count": 26,
     "metadata": {},
     "output_type": "execute_result"
    }
   ],
   "source": [
    "f= [((\"a\"),(\"b\")),\n",
    "    ((\"b\"),(\"d\")),\n",
    "    ((\"d\",\"e\"),(\"g\")),\n",
    "    ((\"b\",\"e\"),(\"i\")),\n",
    "    ((\"e\"),(\"j\")),\n",
    "    ((\"e\",\"f\"),(\"k\",\"l\",\"m\",\"t\")),\n",
    "    ((\"b\",\"f\"),(\"t\")),\n",
    "    ((\"f\",\"g\"),(\"n\")),\n",
    "    ((\"h\"),(\"n\",\"t\")),\n",
    "    ((\"i\"),(\"o\")),\n",
    "    ((\"c\",\"j\"),(\"p\")),\n",
    "    ((\"k\",\"m\"),(\"q\")),\n",
    "    ((\"n\"),(\"p\",\"r\",\"s\")),\n",
    "    ((\"p\"),(\"t\"))\n",
    "    ] \n",
    "\n",
    "def fermetureTransitive(f, X):\n",
    "    \"\"\"Fermeture transitive de X par f\"\"\"\n",
    "    Y = set(X)\n",
    "    while True:\n",
    "        Z = set(Y)\n",
    "        for (x,y) in f:\n",
    "            if x in Y:\n",
    "                Y.add(y)\n",
    "        if Z == Y:\n",
    "            return Y\n",
    "\n",
    "# exemple\n",
    "print(fermetureTransitive(f, [\"c\",\"g\"]))\n",
    "\n",
    "# fonction qui retourne un tableau de la couverture minimale de f qio affiche le resultat sous forme d'un graphique\n",
    "def couvertureMinimal(f):\n",
    "    \"\"\"Couverture minimale de f\"\"\"\n",
    "    couverture = []\n",
    "    for (x,y) in f:\n",
    "        if not any(x in Z for Z in couverture):\n",
    "            couverture.append(fermetureTransitive(f, [x]))\n",
    "    for i in range(len(couverture)):\n",
    "        print(\"C\"+str(i+1)+\" = \"+str(couverture[i]))\n",
    "    return couverture\n",
    "    \n",
    "\n",
    "couvertureMinimal(f)\n"
   ]
  }
 ],
 "metadata": {
  "kernelspec": {
   "display_name": "Python 3",
   "language": "python",
   "name": "python3"
  },
  "language_info": {
   "codemirror_mode": {
    "name": "ipython",
    "version": 3
   },
   "file_extension": ".py",
   "mimetype": "text/x-python",
   "name": "python",
   "nbconvert_exporter": "python",
   "pygments_lexer": "ipython3",
   "version": "3.10.6 (main, Nov 14 2022, 16:10:14) [GCC 11.3.0]"
  },
  "orig_nbformat": 4,
  "vscode": {
   "interpreter": {
    "hash": "916dbcbb3f70747c44a77c7bcd40155683ae19c65e1c03b4aa3499c5328201f1"
   }
  }
 },
 "nbformat": 4,
 "nbformat_minor": 2
}
