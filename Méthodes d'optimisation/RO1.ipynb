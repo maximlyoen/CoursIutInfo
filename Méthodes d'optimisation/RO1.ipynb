{
 "cells": [
  {
   "attachments": {},
   "cell_type": "markdown",
   "metadata": {},
   "source": [
    "# Introduction\n",
    "\n",
    "La **programmation linéaire** (LP) également connue sous le nom d’optimisation linéaire , est une technique de programmation mathématique permettant d’obtenir le meilleur résultat, comme le profit maximum ou le moindre coût, dans un modèle mathématique dont les exigences sont représentées par des **relations linéaires**.\n",
    "\n",
    "Nous allons étudier dans cette partie :\n",
    "\n",
    "- Représentation mathématique d’un problème réel;\n",
    "- Représentation  et résolution graphique du problème;\n",
    "- Résolution par la méthode du simplexe;\n",
    "- Résolution avec un solveur."
   ]
  },
  {
   "attachments": {},
   "cell_type": "markdown",
   "metadata": {},
   "source": [
    "\n",
    "# Programme linéaire réels à 2 dimensions\n",
    "\n",
    "> Une multinationale de bonbons pour les enfants dispose de 2 arômes de base pour la fabrication de ses produits. La saveur de chaque bonbon dépend de la quantité de chaque arôme.\n",
    ">\n",
    "> Le premier ingrédient coûte à l’entreprise 10€/kg et le deuxième 20€/kg.\n",
    ">\n",
    "> Le coût de fabrication d’un kilo de produit (somme du mélange de 2 ingrédients) est de 5€.\n",
    ">\n",
    "> Les études de goût auprès des consommateurs ont montré que la composition du mélange ne doit pas être supérieure à 50% du premier ingrédient et 80% du deuxième.\n",
    ">\n",
    "> Par ailleurs, le mois dernier, l’entreprise a vendu 100 Kg à 50€/kg.\n",
    ">\n",
    "> L’entreprise ne souhaite produire plus que ce qu’elle arrive à vendre.\n",
    ">\n",
    "> Combien de kilos de bonbons doit-elle fabriquer par mois et les proportions de chaque ingrédient pour maximiser les bénéfices ?\n"
   ]
  },
  {
   "attachments": {},
   "cell_type": "markdown",
   "metadata": {},
   "source": [
    "## Modélisation du problème\n",
    "\n",
    "### Variables de décision du programme\n",
    "\n",
    "> Identifier les inconnues qui sont à déterminer dans le problème.\n",
    ">\n",
    "> On les nommera avec des variables $X_1$, $X_2$,…\n",
    "\n",
    "$X_1 : \\dots$\n",
    "\n",
    "$X_2 : \\dots$"
   ]
  },
  {
   "attachments": {},
   "cell_type": "markdown",
   "metadata": {},
   "source": [
    "### Contraintes du programme\n",
    "\n",
    "> Modéliser toutes les contraintes du problème sous formes d'inéquations linéaires sur une ou plusieurs variables du programme linéaire.\n",
    ">\n",
    "> À chaque ressource disponible ou à chaque limitation correspondra une inéquation.\n",
    ">\n",
    "> Il est important de fixer l’unité (temps, monétaire, …) et de la respecter dans tout le programme linéaire.\n",
    "\n",
    "- Contrainte 1 : demande maximale par mois\n",
    "\n",
    "$\\dots$\n",
    "\n",
    "- Contrainte 2 : règle de composition inférieur à 50% de l’arôme 1\n",
    "\n",
    "$\\dots$\n",
    "\n",
    "- Contrainte 3 : règle de composition inférieur à 80% de l’arôme 2\n",
    "\n",
    "$\\dots$\n",
    "\n",
    "- Contraintes de non-négativité (nombre de kgs/mois positifs)\n",
    "\n",
    "$\\dots$"
   ]
  },
  {
   "attachments": {},
   "cell_type": "markdown",
   "metadata": {},
   "source": [
    "### Fonction économique\n",
    "\n",
    "La fonction économique doit maximiser le **bénéfice** (prix de vente des bonbons - coût des matières premières et de fabrication).\n",
    "\n",
    "> Exprimer la fonction économique $F(X_1,X_2)$\n",
    "\n",
    "$F (X_1, X_2) = \\dots$\n",
    "\n",
    "reformulée en\n",
    "\n",
    "$F (X_1, X_2) = \\dots$"
   ]
  },
  {
   "attachments": {},
   "cell_type": "markdown",
   "metadata": {},
   "source": [
    "## Programme linéaire complet\n",
    "\n",
    "On obtient le système linéaire complet :\n",
    "\n",
    "$$\n",
    "\\text{Maximiser : }  35X_1 + 25X_2 \\qquad\n",
    "\\text{   sous contrainte : }\\qquad\n",
    "\\begin{cases}\n",
    "X_1 + X_2 & \\leq 100\\\\\n",
    "0.5X_1 - 0,5X_2 & \\geq 0\\\\\n",
    "-0,8X_1 + 0,2X_2 & \\geq 0\\\\\n",
    "X_1 & \\geq 0 & \\\\\n",
    " X_2 & \\geq 0\n",
    "\\end{cases}$$\n"
   ]
  },
  {
   "attachments": {},
   "cell_type": "markdown",
   "metadata": {},
   "source": [
    "# Méthode graphique de résolution\n",
    "\n",
    "La méthode graphique ne peut être réalisée qu’avec un programme de base comportant au plus 3 inconnues. Au-delà, la représentation et la résolution deviennent impossible.\n",
    "\n",
    "L’idée est de représenter les inéquations de contraintes et la fonction économique dans un plan ou dans l'espace.\n",
    "\n",
    "\n",
    "## Représentation des contraintes\n",
    "\n",
    "Commençons par placer les différentes contraintes. Nous allons laisser en blanc la partie solution de notre problème.\n",
    "\n",
    "On place généralement la contrainte $X_1$ en abscisse, $X_2$ en ordonnée.\n",
    "\n",
    "> Après avoir importé `numpy` et `matplotlib`, tracer les droites correspondantes aux contraintes dans la partie du plan $X_1 \\geq 0,X_2 \\geq 0$.\n",
    ">\n",
    "> On pourra utiliser les fonctions `linesapce`, `amax`, `xlim`, `ylim`.\n"
   ]
  },
  {
   "cell_type": "code",
   "execution_count": null,
   "metadata": {},
   "outputs": [],
   "source": [
    "import numpy as np\n",
    "import matplotlib.pyplot as plt"
   ]
  },
  {
   "attachments": {},
   "cell_type": "markdown",
   "metadata": {},
   "source": [
    "Ce que nous voulons, c'est tracer le domaine délimité par une inéquation. Il faut donc faire ressortir la zone des valeurs respectant les inégalités.\n",
    "\n",
    "il suffit pour cela d'utiliser `fill_between` en laissant la partie solution en blanc.\n",
    "\n",
    "> Compléter votre graphique précédent\n"
   ]
  },
  {
   "cell_type": "code",
   "execution_count": null,
   "metadata": {},
   "outputs": [],
   "source": [
    "import numpy as np\n",
    "import matplotlib.pyplot as plt"
   ]
  },
  {
   "attachments": {},
   "cell_type": "markdown",
   "metadata": {},
   "source": [
    "La partie en blanc est l'espace des **solutions réalisables.**\n",
    "\n",
    "Toutes les valeurs de $(X_1, X_2)$ respectant les contraintes sont dans cet espace.\n",
    "\n",
    "Dans le cas d'un problème à 2 dimensions, c'est un **polygone convexe** borné par des droites.\n",
    "\n",
    "On admet que :\n",
    "\n",
    "> **Théorème :** Soit $f$ une fonction linéaire définie sur un polyèdre convexe borné.\n",
    ">\n",
    "> Alors la fonction $f$ atteint sa valeur **maximale** en au moins un des **sommets** du polyèdre convexe."
   ]
  },
  {
   "attachments": {},
   "cell_type": "markdown",
   "metadata": {},
   "source": [
    "## Fonction économique\n",
    "\n",
    "Nous allons pouvoir utiliser cette propriété pour définir la solution optimale.\n",
    "\n",
    "La forme générale de la fonction économique est celle d'une droite d'équation $ax +by = p$.\n",
    "\n",
    "> Le but est ici de **maximizer** $p$ avec ($x,y$) restant dans le domaine des contraintes.\n",
    "\n",
    "Ici, on obtient $35x + 25y =p$ soit $y=-\\dfrac{35}{25}x+\\dfrac{p}{25}$\n",
    "\n",
    "> Tracer la fonction économique pour obtenir un bénéfice de 1000, 2000, 3000, 4000 euros."
   ]
  },
  {
   "cell_type": "code",
   "execution_count": null,
   "metadata": {},
   "outputs": [],
   "source": [
    "import numpy as np\n",
    "import matplotlib.pyplot as plt"
   ]
  },
  {
   "attachments": {},
   "cell_type": "markdown",
   "metadata": {},
   "source": [
    "> Quelles conclusions pouvez-vous tirer de ces tracés ?\n",
    "\n",
    "$\\dots$"
   ]
  },
  {
   "attachments": {},
   "cell_type": "markdown",
   "metadata": {},
   "source": [
    "\n",
    "# Méthode du simplexe\n",
    "\n",
    "Une société produit de la peinture d’intérieur et d’extérieur à partir de deux produits de base M1 et M2.\n",
    "\n",
    "$$\\begin{array}{|c|c|c|c|}\n",
    "\\hline\n",
    "& \\text{Extérieure} & \\text{Intérieure} & \\text{Quantité disponible par tonne par jour} \\\\\n",
    "\\hline\n",
    "M1 &6 &4 &24 \\\\\n",
    "\\hline\n",
    "M2 &1 & 2& 6 \\\\\n",
    "\\hline\n",
    "\\text{Profit par tonne} &5 &4& \\\\\n",
    "\\hline\n",
    "\\end{array}\n",
    "$$"
   ]
  },
  {
   "attachments": {},
   "cell_type": "markdown",
   "metadata": {},
   "source": [
    "Les contraintes supplémentaires s'appliquent :\n",
    "\n",
    "* Demande maximum en peinture d’intérieur : 2 tonnes / jour.\n",
    "\n",
    "* La production en peinture d’intérieur ne peut dépasser que d’une tonne celle d’extérieur.\n",
    "\n",
    "> Exprimez le programme linéaire complet.\n",
    "\n",
    "$x_1 : \\dots$\n",
    "\n",
    "$x_2 : \\dots$\n",
    "\n",
    "La fonction objectif à optimiser est :\n",
    "\n",
    "$$\\text{max } z = \\dots $$\n",
    "\n",
    "sous les contraintes :\n",
    "\n",
    "$$\\begin{cases}\n",
    "\\dots \\\\\n",
    "\\dots \\\\\n",
    "\\dots \\\\\n",
    "\\dots \\\\\n",
    "\\dots \\\\\n",
    "\\end{cases}\n",
    "$$\n"
   ]
  },
  {
   "attachments": {},
   "cell_type": "markdown",
   "metadata": {},
   "source": [
    "> Donner **une** solution qui satisfait toutes les contraintes.\n",
    "\n",
    "$$x_1 =\\dots , x_2 =\\dots  \\text{ qui implique } z= \\dots $$\n",
    "\n",
    "> Combien y-a-t'il de solutions ?\n",
    "\n",
    "$\\dots$\n",
    "\n",
    "L'objectif est de trouver la solution (admissible) **optimale**."
   ]
  },
  {
   "attachments": {},
   "cell_type": "markdown",
   "metadata": {},
   "source": [
    "## Forme standard et forme canonique d’un programme linéaire\n",
    "\n",
    "### Forme standard\n",
    "\n",
    "**Définition :** Un programme linéaire est sous forme standard lorsque toutes ses contraintes sont des **égalités** et toutes ses variables sont **non-négatives**.\n",
    "\n",
    "### Forme canonique\n",
    "\n",
    "**Définition :** Un programme linéaire est sous forme **canonique** lorsque toutes ses contraintes sont des **inégalités** et toutes ses variables sont **non-négatives**.\n",
    "\n",
    "### Equivalence entre ces formes\n",
    "\n",
    "**Théorème :** Tout programme linéaire peut s’écrire sous forme standard et sous forme canonique.\n",
    "\n",
    "Passons notre problème de pots de peinture sous forme standard en introduisant des **variables d'écart positives**.\n",
    "\n",
    "$$\\begin{cases}\n",
    "6x_1+4x_2 &\\leq 24 \\\\\n",
    " x_1+2x_2 &\\leq 6 \\\\\n",
    " x_2 &\\leq 2 \\\\\n",
    " x_2−x_1 &\\leq 1\\\\\n",
    "x_1,x_2 &\\geq 0\\\\\n",
    "\\end{cases}\n",
    "$$\n",
    "$\\implies$\n",
    "$$\\begin{cases}\n",
    "\\cdots \\\\\n",
    "\\cdots \\\\\n",
    "\\cdots \\\\\n",
    "\\cdots \\\\\n",
    "x_1,x_2,s_1,s_2,s_3,s_4 \\geq 0\\\\\n",
    "\\end{cases}\n",
    "$$\n",
    "\n",
    "Nous pouvons alors donner une forme matricielle à ce problème\n",
    "\n",
    "$$A.x=b \\text{ avec } $$\n",
    "\n",
    "$$A=\\begin{pmatrix} 6 &4 &1 &0 &0& 0 \\\\ 1 &2 &0& 1& 0& 0 \\\\ 0 &1& 0& 0& 1& 0 \\\\ -1 &1 &0&0&0&1\\\\ \\end{pmatrix}\n",
    "\\text{ et } x=\\begin{pmatrix} x_1 \\\\ x_2 \\\\ s_1 \\\\ s_2 \\\\ s_3 \\\\ s_4 \\end{pmatrix} b=\\begin{pmatrix} 24 \\\\6\\\\2\\\\1 \\end{pmatrix}\n",
    "c=\\begin{pmatrix} 5 \\\\4 \\\\0\\\\0\\\\ 0\\\\ 0 \\end{pmatrix}$$\n",
    "\n",
    "> Ci-dessous, nous avons une représentation graphique du problème.\n",
    "\n",
    "![graphique1](graphique1.png)"
   ]
  },
  {
   "attachments": {},
   "cell_type": "markdown",
   "metadata": {},
   "source": [
    "> Repérer rapidement chaque contrainte sur ce schéma.\n",
    "\n",
    "![graphique2](graphique2.png)"
   ]
  },
  {
   "attachments": {},
   "cell_type": "markdown",
   "metadata": {},
   "source": [
    "## Solutions de base\n",
    "\n",
    "On obtient donc un système de $m$ équations linéaires à $n$ inconnues $(m < n)$ ce qui implique une infinité de solutions.\n",
    "\n",
    "- Si on fixe à **zéro** $n − m$ variables, le système de $m$ équations à $m$ inconnues possède une solution unique (si la matrice est inversible). C’est une **solution de base**.\n",
    "\n",
    "**Définition** : Une **solution de base** d’un programme linéaire est la solution unique du système de $m$ équations à $m$ inconnues obtenu en fixant à zéro $n − m$ variables (pourvu que la matrice du système soit inversible).\n",
    "\n",
    "Les variables fixées à zéro sont appelées **variables hors base** et les autres **variables en base**.\n",
    "\n",
    "Prenons $B = \\{s_1, s_2, s_3, s_4\\}$ les variables en base donc $(x_1, x_2)$ les variables hors base fixée à 0.\n"
   ]
  },
  {
   "attachments": {},
   "cell_type": "markdown",
   "metadata": {},
   "source": [
    "\n",
    "$$\\begin{cases}\n",
    "z &= 0 +5x_1 +4x_2 \\\\\n",
    "s_1 &= 24 −6x_1 −4x_2 \\\\\n",
    "s_2 &= 6 −x_1 −2x_2 \\\\\n",
    "s_3 &=2 −x_2 \\\\\n",
    "s_4 &= 1 +x_1 −x_2 \\\\\n",
    "\\end{cases}\n",
    "$$\n",
    "\n",
    "Si $x_1 = x_2 = 0$, alors $s_1 = 24, s_2 = 6, s_3 = 2, s_4 = 1$.\n",
    "\n",
    "Cette solution de base réalisable correspond au sommet (0, 0).\n",
    "\n",
    "Toutes ces valeurs sont non-négatives et la solution est réalisable.\n",
    "\n",
    "**Définition :** Une solution de base telle que toutes les variables prennent des valeurs non-négatives est appelée **solution de base réalisable**."
   ]
  },
  {
   "attachments": {},
   "cell_type": "markdown",
   "metadata": {},
   "source": [
    "### Géométrie des solutions de base\n",
    "\n",
    "Chaque solution de base réalisable correspond à un sommet du polygone des contraintes.\n",
    "\n",
    "![graphique3](graphique3.png)\n",
    "\n",
    "|       Base       | Solution | Objectif | Sommet |\n",
    "| :--------------: | :------: | :------: | :----: |\n",
    "| {s1, s2, s3, s4} |  (0, 0)  |    0     |   A    |\n",
    "| {s1, x1, s3, s4} |  (4, 0)  |    20    |   F    |\n",
    "| {x1, s2, s3, s4} |  (6, 0)  |    -     |   -    |\n",
    "| {x1, x2, s3, s4} | (3, 1.5) |    21    |   E    |"
   ]
  },
  {
   "attachments": {},
   "cell_type": "markdown",
   "metadata": {},
   "source": [
    "# L’algorithme du simplexe\n",
    "\n",
    "On commence par donner les idées principales de cet algorithme avant de systématiser.\n",
    "\n",
    "## Choix de la variable entrante dans la base\n",
    "\n",
    "$$\\begin{cases}\n",
    "z &= 0 +5x_1 +4x_2 \\\\\n",
    "s_1 &= 24 −6x_1 −4x_2 \\\\\n",
    "s_2 &= 6 −x_1 −2x_2 \\\\\n",
    "s_3 &=2 −x_2 \\\\\n",
    "s_4 &= 1 +x_1 −x_2 \\\\\n",
    "\\end{cases}\n",
    "$$"
   ]
  },
  {
   "attachments": {},
   "cell_type": "markdown",
   "metadata": {},
   "source": [
    "Si $x_1$ augmente (entre en base), la valeur de la fonction objectif $z$ augmente.\n",
    "\n",
    "Quelle est la valeur maximale de $x_1$ sachant que toutes les variables doivent **rester positives**."
   ]
  },
  {
   "cell_type": "markdown",
   "metadata": {},
   "source": [
    "$$\\begin{cases}\n",
    "z &= 0 +5x_1 +4x_2 \\\\\n",
    "s_1 & \\geq 0 &\\implies \\cdots\\\\\n",
    "s_2 & \\geq 0 & \\implies \\cdots  \\\\\n",
    "s_3 & \\geq 0 & \\implies \\cdots\\\\\n",
    "s_4 & \\geq 0 & \\implies \\cdots  \\\\\n",
    "\\end{cases}\n",
    "$$"
   ]
  },
  {
   "attachments": {},
   "cell_type": "markdown",
   "metadata": {},
   "source": [
    "On doit donc choisir\n",
    "\n",
    "$$x_1=\\dots$$\n",
    "\n",
    "Dans ce cas $$s_1=\\dots$$\n",
    "\n",
    "donc $x_1$ entre en base et $s_1$ sort de la base.\n",
    "\n",
    "La nouvelle base est donc $B=\\{x_1,s_2,s_3,s_4\\}$."
   ]
  },
  {
   "cell_type": "markdown",
   "metadata": {},
   "source": [
    "Passons à l'étape de pivotage sous forme d'équation :\n",
    "\n",
    "$$x_1 = 4 − \\dfrac16 s_1 − \\dfrac23 x_2$$"
   ]
  },
  {
   "attachments": {},
   "cell_type": "markdown",
   "metadata": {},
   "source": [
    "$$\\begin{cases}\n",
    "z &= 20 −\\dfrac56 s_1 +\\dfrac23 x_2\\\\\n",
    "x_1 &= 4 − \\dfrac16 s_1 − \\dfrac23 x_2\\\\\n",
    "s_2 &= 2 +\\dfrac16 s_1 −\\dfrac 43 x_2\\\\\n",
    "s_3 &=2 -x_2\\\\\n",
    "s_4 &= 5 −\\dfrac16 s_1 −\\dfrac53 x_2 \\\\\n",
    "\\end{cases}\n",
    "$$"
   ]
  },
  {
   "attachments": {},
   "cell_type": "markdown",
   "metadata": {},
   "source": [
    "Reprenons notre système initial sous la forme d'une matrice augmenté pour comprendre le pivotage par la méthode de Gauss-Jordan\n",
    "\n",
    "$$\\begin{cases}\n",
    "6x_1+&4x_2 &+ s_1& & & &=24 \\\\\n",
    "x_1+&2x_2 & &+s_2 & & &= 6 \\\\\n",
    " &x_2 &  & & +s_3& &= 2 \\\\\n",
    " -x_1+ &x_2& & & & +s_4 &= 1\\\\\n",
    "x_1,&x_2,&s_1,&s_2,&s_3,&s_4& \\geq 0\\\\\n",
    "\\end{cases}\n",
    "$$"
   ]
  },
  {
   "cell_type": "markdown",
   "metadata": {},
   "source": [
    "donne sous forme de matrice augmentée :"
   ]
  },
  {
   "cell_type": "markdown",
   "metadata": {},
   "source": [
    "$$A= \\begin{pmatrix}  6&4&1&0&0&0& 24   \\\\ 1&2&0&1&0&0&6 \\\\ 0&1&0&0&1&0&2 \\\\-1&1&0&0&0&1&1 \\\\ \\end{pmatrix}$$\n",
    "\n",
    "Pour entrer $x_2$ dans la base, on peut choisir comme pivot $a_{3;2}$"
   ]
  },
  {
   "attachments": {},
   "cell_type": "markdown",
   "metadata": {},
   "source": [
    "$$A= \\begin{pmatrix}  6&4&1&0&0&0& 24   \\\\ 1&2&0&1&0&0&6 \\\\ 0&\\red 1&0&0&1&0&2 \\\\-1&1&0&0&0&1&1 \\\\ \\end{pmatrix}$$"
   ]
  },
  {
   "attachments": {},
   "cell_type": "markdown",
   "metadata": {},
   "source": [
    "\n",
    "On applique la transformation de Gaus-Jordan en utilisant ce pivot :\n",
    "\n",
    "$L_4 \\leftarrow L_4 - L_3$\n",
    "\n",
    "$L_2 \\leftarrow L_2 - 2 L_3$\n",
    "\n",
    "$L_1 \\leftarrow L_1 - 4 L_3$\n",
    "\n",
    "et on obtient :"
   ]
  },
  {
   "attachments": {},
   "cell_type": "markdown",
   "metadata": {},
   "source": [
    "$$A= \\begin{pmatrix}  6&0&1&0&-4&0& 16   \\\\ 1&0&0&1&-2&0&2 \\\\ 0&\\red 1&0&0&1&0&2 \\\\-1&0&0&0&-1&1&-1 \\\\ \\end{pmatrix}$$"
   ]
  },
  {
   "attachments": {},
   "cell_type": "markdown",
   "metadata": {},
   "source": [
    "Après cette étape $x_1$ est entrée de la base et $s_2$ est sortie. On a donc $B=\\{x_1,s_1,s_3,s_4\\}$.\n",
    "\n",
    "En fixant les variable hors base à 0, $x_2=s_2=0$\n",
    "\n",
    "On obtient $$x_1=-6 ; s_1=12 ; s_3=-2; s_4=-7$$"
   ]
  },
  {
   "attachments": {},
   "cell_type": "markdown",
   "metadata": {},
   "source": [
    "## Exemple guidé\n",
    "\n",
    "Nous allons illustrer cette méthode  sur l’exemple guidé suivant :\n",
    "\n",
    "$$\\text{max } z = x_1 + 2x_2 \\qquad \\text{ sous les contraintes } \\qquad\n",
    "\\begin{cases}\n",
    "2x_1 + x_2 \\leq 2 \\\\\n",
    "x_1+3x_2 \\leq 3 \\\\\n",
    "x_1,x_2 \\geq 0\n",
    "\\end{cases}$$\n",
    "\n",
    "> Ecrire le système sous sa forme canonique.\n",
    "\n",
    "$$\\text{max } z = x_1 + 2x_2 \\qquad \\text{ sous les contraintes } \\qquad\n",
    "\\begin{cases}\n",
    "\\dots \\\\\n",
    "\\dots\\\\\n",
    "x_1,x_2, x_3, x_4 \\geq 0\n",
    "\\end{cases}$$\n",
    "\n",
    " ### Initialisation\n",
    "\n",
    "On choisit la solution de base admissible $(0, 0, 2, 3)$ comme point de départ de l’algorithme. \n",
    "\n",
    "Les variables de base sont $\\{x_3, x_4\\}$ et les variables hors-base sont $\\{x_1, x_2\\}$. Ce choix est toujours possible si b ≥ 0.\n",
    "\n",
    "> Former la matrice augmentée initiale $T$."
   ]
  },
  {
   "attachments": {},
   "cell_type": "markdown",
   "metadata": {},
   "source": [
    "$$T=\\begin{pmatrix} \\cdot&\\cdot&\\cdot&\\cdot&\\cdot \\\\&&&&  \\end{pmatrix} \\begin{matrix} x_3 \\\\ x_4 \\end{matrix}$$"
   ]
  },
  {
   "attachments": {},
   "cell_type": "markdown",
   "metadata": {},
   "source": [
    "### Choix de la colonne de pivot\n",
    "\n",
    "On doit aller vers un sommet adjacent pour lequel la valeur de la fonction objective $z$ en ce sommet est supérieure.\n",
    "\n",
    "Pour cela, on choisira la variable $x_i$ qui fera augmenter le plus rapidement $z$. C’est-à-dire que l’on choisit l’indice $i$ qui maximise  $c_i > 0$.\n",
    "\n",
    "Dans notre cas, la fonction $z$ varie plus rapidement en fonction de la variable $x_2$.\n",
    "\n",
    "Donc, on choisit la deuxième colonne comme colonne de pivot. La variable $x_2$ entre dans la base mais une variable doit sortir.\n",
    "\n",
    "**Remarque** : Si tous les $c_i \\leq 0$, la fonction objective $z$ ne peut augmenter davantage. Donc nous avons trouver la solution optimale et l’algorithme se termine à cette étape."
   ]
  },
  {
   "attachments": {},
   "cell_type": "markdown",
   "metadata": {},
   "source": [
    "### Choix de la ligne de pivot\n",
    "\n",
    "Il y a 2 possibilités de nouvelles base:$\\{x_2, x_3\\}$ et $\\{x_2, x_4\\}$.\n",
    "\n",
    "Essayons le choix $B=\\{x_2, x_4\\}$. Dans ce cas, $x_3$ quitte la base.\n",
    "\n",
    "La solution de base s’obtient à l’aide de l’élimination de Gauss-Jordan à partir du pivot $a_{1;2}$. On obtient\n",
    "\n",
    "$$\\begin{pmatrix} 2&\\red 1&1&0&2 \\\\1&3&0&1&3  \\end{pmatrix} \\rightarrow  \\begin{pmatrix} \\cdot&\\cdot&\\cdot&\\cdot&\\cdot \\\\\\cdot&\\cdot&\\cdot&\\cdot&\\cdot \\\\ \\end{pmatrix}$$\n",
    "\n",
    "et la nouvelle solution de base sera $\\qquad \\cdots \\qquad$ qui n’est pas admissible."
   ]
  },
  {
   "attachments": {},
   "cell_type": "markdown",
   "metadata": {},
   "source": [
    "Essayons de nouveau avec $B=\\{x_2, x_3\\}$. $x_4$ quitte donc la base.\n",
    "\n",
    "La solution de base s’obtient à l’aide de l’élimination de Gauss-Jordan à partir du pivot $a_{2;2}$. On obtient :\n",
    "\n",
    " $$\\begin{pmatrix} 2&1&1&0&2 \\\\1&\\red 3&0&1&3  \\end{pmatrix} \\rightarrow  \\begin{pmatrix} \\cdot&\\cdot&\\cdot&\\cdot&\\cdot \\\\\\cdot&\\cdot&\\cdot&\\cdot&\\cdot \\\\ \\end{pmatrix}$$"
   ]
  },
  {
   "attachments": {},
   "cell_type": "markdown",
   "metadata": {},
   "source": [
    "La nouvelle solution de base sera $\\qquad \\cdots \\qquad$ qui est admissible.\n",
    "\n",
    "On obtient dans ce cas $z=2$.\n",
    "\n",
    "On peut continuer comme ceci, mais voyons d'abord quelques remarques.\n",
    "\n",
    "* Il est évident que nous ne pouvons nous permettre d’explorer toutes les possibilités pour le choix de la ligne de pivot à l’étape 2.\n",
    "  Nous avons besoin d’un critère de sélection.\n",
    "\n",
    "* Il serait intéressant de stocker la fonction objectif dans la matrice pour faciliter son calcul.\n",
    "\n",
    "## Résumons l'algorithme du simplexe\n",
    "\n",
    "**Etape 0 :** On commence par former le tableau initial.\n",
    "\n",
    "**Etape 1 :** On choisit la colonne $j$ du pivot telle que\n",
    "\n",
    "$$c_j=max\\{ c_i | c_i >0\\}$$\n",
    "\n",
    "Si aucun choix est possible, on a atteint la solution optimale et l’algorithme se termine.\n",
    "\n",
    "Sinon, on passe à l’étape suivante.\n",
    "\n",
    "Remarque : pour un problème de minimisation, on modifie le critère en choisissant l’indice $j$ tel que $c_j= min\\{c_i | c_i<0\\}$\n",
    "\n",
    "**Etape 2 :**\n",
    "\n",
    "On choisit la ligne du pivot. On choisit l'indice $i$ qui vérifie le **critère du quotient**\n",
    "\n",
    "$$\\dfrac{b_i}{a_{ij}}=min\\{\\dfrac{b_k}{a_{kj}} | a_{kj}>0 \\}$$\n",
    "\n",
    "ou $j$ est la colonne du pivot précédente.\n",
    "\n",
    "**Etape 3 :** On applique la procédure d’élimination de Gauss-Jordan autour du pivot situé à l’intersection de la ligne $i$ et de la colonne $j$.\n",
    "\n",
    "On retourne à l'étape 1 et on recommence.\n",
    "\n",
    "Remarque : le critère du quotient permet de toujours choisir une solution admissible.\n",
    "\n",
    "# Exercice guidé\n",
    "\n",
    "Considérons le problème :\n",
    "\n",
    "$\\text{max } z= 20x_1+ 25x_2$ sous les contraintes\n",
    "\n",
    "$$\\begin{cases}\n",
    "2x_1+ 3x_2 \\leq 40,\\\\\n",
    "4x_1+ 2x_2 \\leq 48,\\\\\n",
    "x_1, x_2 \\geq 0.\\\\\n",
    "\\end{cases}$$\n",
    "\n",
    "que l'on réécrit sous forme canonique :\n",
    "\n",
    "$$\\begin{cases}\n",
    "2x_1+ 3x_2 + x_3 = 40,\\\\\n",
    "4x_1+ 2x_2  +x_4 = 48,\\\\\n",
    "x_1, x_2, x_3,x_4 \\geq 0.\\\\\n",
    "\\end{cases}$$\n",
    "\n",
    "On forme le tableau initial T :\n",
    "\n",
    "$$\\begin{array}{|c|cccc|c|}\n",
    "\\hline\n",
    " B & x_1 &x_2 & x_3 & x_4 & \\\\\n",
    " \\hline\n",
    " x_3&2&3&1&0& 40\\\\\n",
    " x_4& 4&2&0&1&48  \\\\\n",
    " \\hline\n",
    " & 20 &25&0&0&0 \\\\\n",
    " \\hline\n",
    " \\end{array}$$"
   ]
  },
  {
   "attachments": {},
   "cell_type": "markdown",
   "metadata": {},
   "source": [
    "Les variables de base sont $B=\\{x_3, x_4\\}$ et la solution de base est $(0,0,40,48)$ ce qui correspond à l’origine dans le plan.\n",
    "\n",
    "**Etape 1** : choix de la colonne : $\\dots$     La variable $\\dots$ entre dans la base.\n",
    "\n",
    "**Etape 2** : choix de la ligne par le critère du quotient qui assure une solution admissible.\n",
    "\n",
    "$$\\begin{array}{|c|cccc|c|c|}\n",
    "\\hline\n",
    " B & x_1 &x_2 & x_3 & x_4 &  & critère\\\\\n",
    " \\hline\n",
    " x_3&2&\\red 3&1&0& 40 & \\dots\\\\\n",
    " x_4& 4&\\red 2&0&1&48  & \\dots\\\\\n",
    " \\hline\n",
    " & 20 &25&0&0&0  & \\\\\n",
    " \\hline\n",
    " \\end{array}$$\n",
    "\n",
    "le choix de la ligne est $\\dots$ donc la variable $\\dots$ sort de la base.\n",
    "\n",
    "On pivote autour de $\\dots$\n",
    "\n",
    "$$\\begin{array}{|c|cccc|c|}\n",
    "\\hline\n",
    " B & x_1 &x_2 & x_3 & x_4 & \\\\\n",
    " \\hline\n",
    " \\dots&\\dots&\\dots&\\dots&\\dots& \\dots\\\\\n",
    " \\dots&\\dots&\\dots&\\dots&\\dots& \\dots\\\\\n",
    " \\hline\n",
    " & \\dots &\\dots&\\dots&\\dots&\\dots \\\\\n",
    " \\hline\n",
    " \\end{array}$$\n"
   ]
  },
  {
   "attachments": {},
   "cell_type": "markdown",
   "metadata": {},
   "source": [
    "On recommence  :\n",
    "\n",
    "On choisit la colonne 1 comme pivot (pourquoi ?) et le critère des quotients donne la ligne 2 donc $x_1$ rentre dans la base et $x_4$ en sort.\n",
    "\n",
    "$$\\begin{array}{|c|cccc|c|c|}\n",
    "\\hline\n",
    " B & x_1 &x_2 & x_3 & x_4 & & \\text{critère}\\\\\n",
    " \\hline\n",
    " x_2&2/3&1&1/3&0& 40/3 & \\dots \\\\\n",
    " x_4& 8/3&0&-2/3&1&64/3  & \\dots\\\\\n",
    " \\hline\n",
    " & 10/3 &0&-25/3&0&-1000/3 &\\\\\n",
    " \\hline\n",
    " \\end{array}$$"
   ]
  },
  {
   "attachments": {},
   "cell_type": "markdown",
   "metadata": {},
   "source": [
    "On pivote autour de $T_{2,1}$\n",
    "\n",
    "$$\\begin{array}{|c|cccc|c|}\n",
    "\\hline\n",
    " B & x_1 &x_2 & x_3 & x_4 & \\\\\n",
    " \\hline\n",
    " x_2&0&1&1/2&-1/4& 8\\\\\n",
    " x_1& 1&0&-1/4&3/8&8  \\\\\n",
    " \\hline\n",
    " & 0&0&-15/2&-5/4&-360 \\\\\n",
    " \\hline\n",
    " \\end{array}$$"
   ]
  },
  {
   "attachments": {},
   "cell_type": "markdown",
   "metadata": {},
   "source": [
    "L’algorithme se termine ici car $\\dots$\n",
    "\n",
    "La solution optimale sera  :\n",
    "\n",
    "$$ x_1=\\dots,x_2=\\dots, x_3=\\dots, x_4=\\dots \\text{ et }  z=\\dots$$"
   ]
  },
  {
   "attachments": {},
   "cell_type": "markdown",
   "metadata": {},
   "source": [
    "## Avec un solveur\n",
    "\n",
    "Nous utilisons la bibliothèque  python `pulp`.\n",
    "\n",
    "Voici un exemple simple d'utilisation ci dessous."
   ]
  },
  {
   "cell_type": "code",
   "execution_count": null,
   "metadata": {},
   "outputs": [],
   "source": [
    "# import the library pulp as p\n",
    "import pulp as p\n",
    "\n",
    "# Create a LP Minimization problem\n",
    "Lp_prob = p.LpProblem('Problem', p.LpMaximize)\n",
    "\n",
    "# Create problem Variables\n",
    "x = p.LpVariable(\"x\", lowBound = 0)   # Create a variable x >= 0\n",
    "y = p.LpVariable(\"y\", lowBound = 0)   # Create a variable y >= 0\n",
    "\n",
    "# Objective Function\n",
    "Lp_prob += 20*x +  25*y\n",
    "\n",
    "# Constraints:\n",
    "Lp_prob += 2 * x + 3 * y <= 40\n",
    "Lp_prob += 4*x + 2*y <= 48\n",
    "\n",
    "\n",
    "# Display the problem\n",
    "print(Lp_prob)\n",
    "\n",
    "status = Lp_prob.solve()   # Solver\n",
    "print(p.LpStatus[status])   # The solution status\n",
    "\n",
    "# Printing the final solution\n",
    "print(p.value(x), p.value(y), p.value(Lp_prob.objective))"
   ]
  },
  {
   "attachments": {},
   "cell_type": "markdown",
   "metadata": {},
   "source": [
    "## A la main en Python\n",
    "\n",
    "> Quelle est la structure du matrice de simplexe si le sommet 0 est une solution ?\n",
    "\n",
    "$$\\begin{pmatrix} . & . \\\\ . & . \\end{pmatrix}$$\n",
    "\n",
    "$\\text{max }  z = 4x_1 + 5x_2$\n",
    "\n",
    "sous les contraintes :\n",
    "\n",
    "$$\\begin{cases}\n",
    "2x_1 + x_2 & \\leq 800 \\\\\n",
    "x_1 + 2x_2 & \\leq 700 \\\\\n",
    "x_2 & \\leq 300 \\\\\n",
    "x_1, x_2 & \\geq 0\n",
    "\\end{cases}$$\n",
    "\n",
    "Sous la forme matricelle, avec :"
   ]
  },
  {
   "attachments": {},
   "cell_type": "markdown",
   "metadata": {},
   "source": [
    "$$A = \\dots $$"
   ]
  },
  {
   "attachments": {},
   "cell_type": "markdown",
   "metadata": {},
   "source": [
    "$$z= \\dots $$"
   ]
  },
  {
   "attachments": {},
   "cell_type": "markdown",
   "metadata": {},
   "source": [
    "$$b= \\dots $$"
   ]
  },
  {
   "attachments": {},
   "cell_type": "markdown",
   "metadata": {},
   "source": [
    "> A l'aide de la fonction `block` de `numpy`, écrire la matrice du simplexe qui correspond au système sous contraintes :"
   ]
  },
  {
   "cell_type": "code",
   "execution_count": null,
   "metadata": {},
   "outputs": [],
   "source": [
    "import numpy as np"
   ]
  },
  {
   "attachments": {},
   "cell_type": "markdown",
   "metadata": {},
   "source": [
    "> Ecrire une fonction `pivot(M,i,j)` qui permet de pivoter autour de $M_{i,j}$"
   ]
  },
  {
   "cell_type": "code",
   "execution_count": null,
   "metadata": {},
   "outputs": [],
   "source": [
    "# la fonction pivot\n",
    "def pivot(M,i,j):\n",
    "# M est une np.array (2 dimensions)\n",
    "# i indice de la ligne\n",
    "# indice de la colonne\n",
    "    N = M.copy ()\n",
    "    # compléter\n",
    "    return N"
   ]
  },
  {
   "attachments": {},
   "cell_type": "markdown",
   "metadata": {},
   "source": [
    "> Ecrire une fonction permettant de choisir la colonne du pivot."
   ]
  },
  {
   "cell_type": "code",
   "execution_count": null,
   "metadata": {},
   "outputs": [],
   "source": [
    "def colonne(matrice):\n",
    "    pass"
   ]
  },
  {
   "attachments": {},
   "cell_type": "markdown",
   "metadata": {},
   "source": [
    "Ecrire une fonction permettant de choisir la ligne du pivot."
   ]
  },
  {
   "cell_type": "code",
   "execution_count": null,
   "metadata": {},
   "outputs": [],
   "source": [
    "def ligne(matrice, col):\n",
    "    pass"
   ]
  },
  {
   "attachments": {},
   "cell_type": "markdown",
   "metadata": {},
   "source": [
    "Ecrire une fonction permettant d'obtenir le crière d'arrêt de cet algorithme."
   ]
  },
  {
   "cell_type": "code",
   "execution_count": null,
   "metadata": {},
   "outputs": [],
   "source": [
    "def arret(matrice):\n",
    "    pass"
   ]
  },
  {
   "attachments": {},
   "cell_type": "markdown",
   "metadata": {},
   "source": [
    "> Ecrire une fonction simplexe qui permet de dérouler l'algorithme du simplexe"
   ]
  },
  {
   "cell_type": "code",
   "execution_count": null,
   "metadata": {},
   "outputs": [],
   "source": [
    "def simplexe(matrice):\n",
    "    pass"
   ]
  },
  {
   "attachments": {},
   "cell_type": "markdown",
   "metadata": {},
   "source": [
    "Vérifier avec `pulp`."
   ]
  },
  {
   "cell_type": "code",
   "execution_count": null,
   "metadata": {},
   "outputs": [],
   "source": [
    "# import the library pulp as p\n",
    "import pulp as p"
   ]
  },
  {
   "attachments": {},
   "cell_type": "markdown",
   "metadata": {},
   "source": [
    "> Vérification graphique :\n",
    ">\n",
    "> * Tracer les zones de contrainte en laissant en blanc la partie solution.\n",
    "> * Tracer la fonction objectif pour z=1000 et z=2200\n",
    "> * Retrouver alors la solution optimale"
   ]
  },
  {
   "cell_type": "code",
   "execution_count": null,
   "metadata": {},
   "outputs": [],
   "source": [
    "import numpy as np\n",
    "import matplotlib.pyplot as plt"
   ]
  }
 ],
 "metadata": {
  "kernelspec": {
   "display_name": "Python 3",
   "language": "python",
   "name": "python3"
  },
  "language_info": {
   "codemirror_mode": {
    "name": "ipython",
    "version": 3
   },
   "file_extension": ".py",
   "mimetype": "text/x-python",
   "name": "python",
   "nbconvert_exporter": "python",
   "pygments_lexer": "ipython3",
   "version": "3.10.9 (main, Dec 15 2022, 17:11:09) [Clang 14.0.0 (clang-1400.0.29.202)]"
  },
  "orig_nbformat": 4,
  "vscode": {
   "interpreter": {
    "hash": "b0fa6594d8f4cbf19f97940f81e996739fb7646882a419484c72d19e05852a7e"
   }
  }
 },
 "nbformat": 4,
 "nbformat_minor": 2
}
