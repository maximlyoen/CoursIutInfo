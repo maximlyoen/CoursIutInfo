{
 "cells": [
  {
   "cell_type": "code",
   "execution_count": 5,
   "metadata": {},
   "outputs": [],
   "source": [
    "from collections import Counter\n",
    "import math\n",
    "import csv\n",
    "\n",
    "k=0\n",
    "query=[]\n",
    "\n",
    "h_def = \"Absolute magnitude parameter\"\n",
    "h = 0\n",
    "\n",
    "diameter_def = \"object diameter (from equivalent sphere) km Unit\"\n",
    "diameter = 0\n",
    "\n",
    "albedo_def = \"Geometric albedo\"\n",
    "albedo = 0\n",
    "\n",
    "diameter_sigma_def = \"1-sigma uncertainty in object diameter km Unit\"\n",
    "diameter_sigma = 0\n",
    "\n",
    "e_def = \"Eccentricity\"\n",
    "e = 0\n",
    "\n",
    "a_def = \"Semi-major axis au Unit\"\n",
    "a = 0\n",
    "\n",
    "q_def = \"perihelion distance au Unit\"\n",
    "q = 0\n",
    "\n",
    "i_def = \"inclination; angle with respect to x-y ecliptic plane\"\n",
    "i = 0\n",
    "\n",
    "moid_def = \"Minimum orbit intersection distance\"\n",
    "moid = 0"
   ]
  },
  {
   "cell_type": "code",
   "execution_count": 6,
   "metadata": {},
   "outputs": [],
   "source": [
    "#data : un ensemble de données connues pour effectuer la classification.\n",
    "#query : un point de données à classer.\n",
    "#k : le nombre de voisins les plus proches à considérer lors de la classification.\n",
    "#distance_fn : une fonction qui calcule la distance entre deux points de données.\n",
    "#choice_fn : une fonction qui calcule la classe majoritaire des k plus proches voisins.\n",
    "#Fonction qui permet de classer les données en fonction de leur similarité avec d'autres données connues\n",
    "def knn(data, query, k, distance_fn, choice_fn):\n",
    "    neighbor_distances_and_indices = []\n",
    "    for index , example in enumerate(data):\n",
    "        distance = distance_fn(example[:-1], query)\n",
    "        neighbor_distances_and_indices.append((distance, index))\n",
    "    sorted_neighbor_distances_and_indices = sorted(neighbor_distances_and_indices)\n",
    "    k_nearest_distances_and_indices = sorted_neighbor_distances_and_indices[:k]\n",
    "    k_nearest_labels = [data[i][-1] for distance, i in k_nearest_distances_and_indices]\n",
    "    return k_nearest_distances_and_indices , choice_fn(k_nearest_labels)"
   ]
  },
  {
   "cell_type": "code",
   "execution_count": 7,
   "metadata": {},
   "outputs": [],
   "source": [
    "#Fonction qui retroune la moyenne, le min , le max d'une des colones du fichier csv donné en paramètre\n",
    "def calculate_statistics(filename, column_number):\n",
    "    with open(filename, newline='') as csvfile:\n",
    "        reader = csv.reader(csvfile)\n",
    "        next(reader)  # Skip the header row\n",
    "        values = []\n",
    "        for row in reader:\n",
    "            if row[column_number] != '0':\n",
    "                values.append(float(row[column_number]))\n",
    "        if len(values) > 0:\n",
    "            mean = sum(values) / len(values)\n",
    "            minimum = min(values)\n",
    "            maximum = max(values)\n",
    "            return mean, minimum, maximum\n",
    "        else:\n",
    "            return None"
   ]
  },
  {
   "cell_type": "code",
   "execution_count": 8,
   "metadata": {},
   "outputs": [
    {
     "ename": "IndexError",
     "evalue": "list index out of range",
     "output_type": "error",
     "traceback": [
      "\u001b[0;31m---------------------------------------------------------------------------\u001b[0m",
      "\u001b[0;31mIndexError\u001b[0m                                Traceback (most recent call last)",
      "Cell \u001b[0;32mIn[8], line 28\u001b[0m\n\u001b[1;32m     25\u001b[0m     \u001b[39mreturn\u001b[39;00m movie_recommendations\n\u001b[1;32m     27\u001b[0m the_post \u001b[39m=\u001b[39m [\u001b[39m3.4\u001b[39m,\u001b[39m939.4\u001b[39m,\u001b[39m0.090\u001b[39m,\u001b[39m0.2\u001b[39m,\u001b[39m.0760090265983052\u001b[39m,\u001b[39m2.769165148633284\u001b[39m,\u001b[39m2.558683601195717\u001b[39m,\u001b[39m10.59406719506626\u001b[39m,\u001b[39m1.59478\u001b[39m] \u001b[39m# feature vector for The Post\u001b[39;00m\n\u001b[0;32m---> 28\u001b[0m recommended_planet \u001b[39m=\u001b[39m mostSimilaPlanet(movie_query\u001b[39m=\u001b[39;49mquery)\n\u001b[1;32m     29\u001b[0m \u001b[39mprint\u001b[39m(recommended_planet)\n\u001b[1;32m     30\u001b[0m \u001b[39mfor\u001b[39;00m recommendation \u001b[39min\u001b[39;00m recommended_planet:\n",
      "Cell \u001b[0;32mIn[8], line 18\u001b[0m, in \u001b[0;36mmostSimilaPlanet\u001b[0;34m(movie_query)\u001b[0m\n\u001b[1;32m     16\u001b[0m     data_row \u001b[39m=\u001b[39m \u001b[39mlist\u001b[39m(\u001b[39mmap\u001b[39m(\u001b[39mfloat\u001b[39m, row[\u001b[39m5\u001b[39m:]))\n\u001b[1;32m     17\u001b[0m     planet_recommendation_data\u001b[39m.\u001b[39mappend(data_row)\n\u001b[0;32m---> 18\u001b[0m recommendation_indices, _ \u001b[39m=\u001b[39m knn(\n\u001b[1;32m     19\u001b[0m     planet_recommendation_data, movie_query, k,\n\u001b[1;32m     20\u001b[0m     distance_fn\u001b[39m=\u001b[39;49meuclidean_distance, choice_fn\u001b[39m=\u001b[39;49m\u001b[39mlambda\u001b[39;49;00m x: \u001b[39mNone\u001b[39;49;00m\n\u001b[1;32m     21\u001b[0m )\n\u001b[1;32m     22\u001b[0m movie_recommendations \u001b[39m=\u001b[39m []\n\u001b[1;32m     23\u001b[0m \u001b[39mfor\u001b[39;00m _, index \u001b[39min\u001b[39;00m recommendation_indices:\n",
      "Cell \u001b[0;32mIn[6], line 10\u001b[0m, in \u001b[0;36mknn\u001b[0;34m(data, query, k, distance_fn, choice_fn)\u001b[0m\n\u001b[1;32m      8\u001b[0m neighbor_distances_and_indices \u001b[39m=\u001b[39m []\n\u001b[1;32m      9\u001b[0m \u001b[39mfor\u001b[39;00m index , example \u001b[39min\u001b[39;00m \u001b[39menumerate\u001b[39m(data):\n\u001b[0;32m---> 10\u001b[0m     distance \u001b[39m=\u001b[39m distance_fn(example[:\u001b[39m-\u001b[39;49m\u001b[39m1\u001b[39;49m], query)\n\u001b[1;32m     11\u001b[0m     neighbor_distances_and_indices\u001b[39m.\u001b[39mappend((distance, index))\n\u001b[1;32m     12\u001b[0m sorted_neighbor_distances_and_indices \u001b[39m=\u001b[39m \u001b[39msorted\u001b[39m(neighbor_distances_and_indices)\n",
      "Cell \u001b[0;32mIn[8], line 4\u001b[0m, in \u001b[0;36meuclidean_distance\u001b[0;34m(point1, point2)\u001b[0m\n\u001b[1;32m      2\u001b[0m sum_squared_distance \u001b[39m=\u001b[39m \u001b[39m0\u001b[39m\n\u001b[1;32m      3\u001b[0m \u001b[39mfor\u001b[39;00m i \u001b[39min\u001b[39;00m \u001b[39mrange\u001b[39m(\u001b[39mlen\u001b[39m(point1)):\n\u001b[0;32m----> 4\u001b[0m     sum_squared_distance \u001b[39m+\u001b[39m\u001b[39m=\u001b[39m math\u001b[39m.\u001b[39mpow(point1[i] \u001b[39m-\u001b[39m point2[i], \u001b[39m2\u001b[39m)\n\u001b[1;32m      5\u001b[0m \u001b[39mreturn\u001b[39;00m math\u001b[39m.\u001b[39msqrt(sum_squared_distance)\n",
      "\u001b[0;31mIndexError\u001b[0m: list index out of range"
     ]
    }
   ],
   "source": [
    "def euclidean_distance(point1, point2):\n",
    "    sum_squared_distance = 0\n",
    "    for i in range(len(point1)):\n",
    "        sum_squared_distance += math.pow(point1[i] - point2[i], 2)\n",
    "    return math.sqrt(sum_squared_distance)\n",
    "\n",
    "def mostSimilaPlanet(movie_query):\n",
    "    raw_planet_data = []\n",
    "    with open('dataset.csv', 'r') as md:\n",
    "        next(md)\n",
    "        for line in md.readlines():\n",
    "            data_row = line.strip().split(',')\n",
    "            raw_planet_data.append(data_row)\n",
    "    planet_recommendation_data = []\n",
    "    for row in raw_planet_data:\n",
    "        data_row = list(map(float, row[5:]))\n",
    "        planet_recommendation_data.append(data_row)\n",
    "    recommendation_indices, _ = knn(\n",
    "        planet_recommendation_data, movie_query, k,\n",
    "        distance_fn=euclidean_distance, choice_fn=lambda x: None\n",
    "    )\n",
    "    movie_recommendations = []\n",
    "    for _, index in recommendation_indices:\n",
    "        movie_recommendations.append(raw_planet_data[index])\n",
    "    return movie_recommendations\n",
    "\n",
    "the_post = [8.5,132.842,0.036,0.532,2459000.5,59000,20200531.0000000,.3051012213587488,2.747268314571767,1.90907339639573,18.3690218339117,358.2052821795358,47.81236788118992,26.32019653177608,3.585463232747804,.2164474421721038,2458878.899133444838,20200130.3991334,1663.221317781863,4.55365179406396,.959687,373.48138979,.43355] # feature vector for The Post\n",
    "recommended_planet = mostSimilaPlanet(movie_query=query)\n",
    "print(recommended_planet)\n",
    "for recommendation in recommended_planet:\n",
    "    print(recommendation[2])\n"
   ]
  },
  {
   "attachments": {},
   "cell_type": "markdown",
   "metadata": {},
   "source": [
    "Code qui permet de mettre en page le .csv en retirent les cases vide et qui les remplace par des 0"
   ]
  },
  {
   "cell_type": "code",
   "execution_count": null,
   "metadata": {},
   "outputs": [],
   "source": []
  },
  {
   "cell_type": "code",
   "execution_count": null,
   "metadata": {},
   "outputs": [],
   "source": [
    "def reform():\n",
    "    with open('dataset.csv', 'r') as f:\n",
    "        reader = csv.reader(f)\n",
    "        your_list = list(reader)\n",
    "        for i in range(len(your_list)):\n",
    "            for j in range(len(your_list[i])):\n",
    "                if(your_list[i][j] == ''):\n",
    "                    your_list[i][j] = '0'\n",
    "    with open('dataset.csv', 'w') as f:\n",
    "        writer = csv.writer(f)\n",
    "        writer.writerows(your_list)\n",
    "\n",
    "    with open('dataset.csv', 'r') as f:\n",
    "        lines = f.readlines()\n",
    "    with open('dataset.csv', 'w') as f:\n",
    "        for line in lines:\n",
    "            if line.strip():\n",
    "                f.write(line)"
   ]
  }
 ],
 "metadata": {
  "kernelspec": {
   "display_name": "Python 3",
   "language": "python",
   "name": "python3"
  },
  "language_info": {
   "codemirror_mode": {
    "name": "ipython",
    "version": 3
   },
   "file_extension": ".py",
   "mimetype": "text/x-python",
   "name": "python",
   "nbconvert_exporter": "python",
   "pygments_lexer": "ipython3",
   "version": "3.10.6"
  },
  "orig_nbformat": 4,
  "vscode": {
   "interpreter": {
    "hash": "65c45682600b822032a055cbf04f0dc5abe5e3c026f7225f43ce560cd84c5728"
   }
  }
 },
 "nbformat": 4,
 "nbformat_minor": 2
}
