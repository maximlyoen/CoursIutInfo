{
 "cells": [
  {
   "attachments": {},
   "cell_type": "markdown",
   "metadata": {},
   "source": [
    "Maxim Lyoen\n",
    "Anthoine Gonzalez\n",
    "Edouard Sence\n",
    "\n",
    "La méthode KNN (k-nearest neighbors) est une technique d'apprentissage automatique supervisé qui consiste à classifier des données en fonction des données les plus proches de celles-ci dans l'espace des caractéristiques. Cette méthode permet de résoudre un certain nombre de problèmes d'optimisation.\n",
    "\n",
    "\n",
    "Source: https://www.kaggle.com/datasets/sakhawat18/asteroid-dataset?resource=download\n",
    "Le jeu de donner choisie et un jeu de donner sur les astérois, ce jeu de données contient des informations sur un peu plus de 950000 astéroïdes et près de 45 données sur chacun astéroïdes. Pour plus de clartés et pour que les données soient plus compréhensibles, j'ai choisi de diminuer le nombre d'informations sur chaque astéroïde pour en avoir plus que 9:\n",
    "\n",
    "    h = Absolute magnitude parameter\n",
    "    diameter = object diameter (from equivalent sphere) km Unit\"\n",
    "    albedo = Geometric albedo\"\n",
    "    diameter_sigma = 1-sigma uncertainty in object diameter km Unit\"\n",
    "    e = Eccentricity\"\n",
    "    a = Semi-major axis au Unit\"\n",
    "    q = perihelion distance au Unit\"\n",
    "    i = inclination; angle with respect to x-y ecliptic plane\"\n",
    "    moid = Minimum orbit intersection distance\"\n",
    "\n",
    "les informations restantes sont peut-être pas les plus compréhensibles pour nous car nous ne sommes pas dans astronomy mais il y a une petite définition qui permet de mieux les comprendre. Il y a aussi dans le code un paramètre à changer en true (fonction_Info_Data) pour pouvoir afficher la moyenne, le min et le max de chaque colonne pour avoir un ordre d'idées des grandeurs des données à rentrer. J'ai aussi diminué la base de données de 950000 astéroïdes à 50000 pour qu'il soit plus simple à manipuler entre nous dans le groupe et aussi plus simple à rendre, car avec 950000 lignes le fichier peser 140 mo\n",
    "J'ai donc Choisie ce jeu de donnée pour la complexiter de ces info mais aussi pour sa taille, une grande taille demontre la rapiditer a laquel knn et capable de faire des recherches.\n",
    "\n",
    "\n",
    "Nous avons choisie la methode knn car elle nous pairaisser la plus simple a commprendre et a metre en place\n",
    "\n",
    "résultats obtenus."
   ]
  }
 ],
 "metadata": {
  "language_info": {
   "name": "python"
  },
  "orig_nbformat": 4
 },
 "nbformat": 4,
 "nbformat_minor": 2
}
