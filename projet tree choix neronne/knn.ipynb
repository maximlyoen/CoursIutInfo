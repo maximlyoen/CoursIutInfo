{
 "cells": [
  {
   "cell_type": "markdown",
   "metadata": {},
   "source": [
    "(d'après [Machine Learning Basics with the K-Nearest Neighbors Algorithm](https://towardsdatascience.com/machine-learning-basics-with-the-k-nearest-neighbors-algorithm-6a6e71d01761))"
   ]
  },
  {
   "cell_type": "markdown",
   "metadata": {},
   "source": [
    "# Quelques définitions"
   ]
  },
  {
   "cell_type": "markdown",
   "metadata": {},
   "source": [
    "L'_algorithme KNN_ (k-nearest neighbors) est un algorithme d'apprentissage automatique supervisé simple et facile à mettre en œuvre, qui peut être utilisé pour résoudre les problèmes de classification et de régression.\n",
    "\n",
    "Un _algorithme d'apprentissage automatique supervisé_ (par opposition à un algorithme d'apprentissage automatique non supervisé) est un algorithme qui s'appuie sur des données d'entrée étiquetées pour apprendre une fonction qui produit une sortie appropriée lorsqu'il reçoit de nouvelles données non étiquetées.\n",
    "\n",
    "Un _problème de classification_ a pour résultat une valeur discrète. Par exemple, \"aime l'ananas\" et \"n'aime pas l'ananas\" sont des valeurs discrètes. Il n'y a pas de juste milieu. L'analogie consistant à apprendre à un enfant à identifier un chat ou un chien est un autre exemple de problème de classification.\n",
    "\n",
    "Un _problème de régression_ a pour résultat un nombre réel. Par exemple, nous pouvons utiliser les données du tableau ci-dessous pour estimer le poids d'une personne en fonction de sa taille.\n",
    "\n",
    "| Taille  | Poids  |\n",
    "|---|---|\n",
    "|\t65.78331|\t112.9925|\n",
    "|\t71.51521|\t136.4873|\n",
    "|\t69.39874|\t153.0269|\n",
    "|\t68.21660|\t142.3354|\n",
    "|\t67.78781|\t144.2971|\n",
    "|\t68.69784|\t123.3024|\n",
    "|\t69.80204|\t141.4947|\n",
    "|\t70.01472|\t136.4623|\n",
    "|\t67.90265|\t112.3723|\n",
    "|\t66.78236|\t120.6672|\n",
    "|\t66.48769|\t127.4516|\n",
    "|\t67.62333|\t114.1430|\n",
    "|\t68.30248|\t125.6107|\n",
    "|\t67.11656|\t122.4618|\n",
    "|\t68.27967|\t116.0866|\n",
    "|\t71.09160|\t139.9975|\n",
    "|\t66.46100|\t129.5023|\n",
    "|\t68.64927|\t142.9733|\n",
    "\n",
    "Un _algorithme d'apprentissage automatique non supervisé_ utilise des données d'entrée sans aucune étiquette - en d'autres termes, aucun enseignant (étiquette) ne dit à l'enfant (ordinateur) quand il a raison ou quand il a fait une erreur afin qu'il puisse s'auto-corriger. Contrairement à l'apprentissage supervisé qui tente d'apprendre une fonction qui nous permettra de faire des prédictions à partir de nouvelles données non étiquetées, l'apprentissage non supervisé tente d'apprendre la structure de base des données afin de nous donner un meilleur aperçu des données.\n"
   ]
  },
  {
   "cell_type": "markdown",
   "metadata": {},
   "source": [
    "# L'algorithme"
   ]
  },
  {
   "cell_type": "markdown",
   "metadata": {},
   "source": [
    "L'algorithme KNN fonctionne de la manière suivante :\n",
    "\n",
    "1. Charger les données\n",
    "2. Initialiser 'K' pour choisir le nombre de voisins à considérer\n",
    "1. Pour chaque enregistrement du jeu de données\n",
    "     - Calculer la [distance](https://www.mathsisfun.com/algebra/distance-2-points.html) entre la donnée en question et l'enregistrement courant\n",
    "     - Ajouter la distance et l'indice de l'enregistrement dans une collection ordonnée\n",
    "4. Trier la collection par distances croissantes\n",
    "5. Choisir les 'K' premières entrées de la collection\n",
    "6. Obtenir les étiquettes de ces entrées\n",
    "7. S'il s'agit d'une régression, retourner la valeur moyenne des étiquettes\n",
    "8. S'il s'agit d'un classification, retourner la valeur prépondérante des étiquettes"
   ]
  },
  {
   "cell_type": "code",
   "execution_count": 3,
   "metadata": {},
   "outputs": [],
   "source": [
    "from collections import Counter\n",
    "import math\n",
    "\n",
    "def knn(data, query, k, distance_fn, choice_fn):\n",
    "    neighbor_distances_and_indices = []\n",
    "\n",
    "    # 3. For each example in the data\n",
    "    for index , example in enumerate(data):\n",
    "        # 3.1 Calculate the distance between the query example and the current\n",
    "        # example from the data.\n",
    "        distance = distance_fn(example[:-1], query)\n",
    "\n",
    "        # 3.2 Add the distance and the index of the example to an ordered collection\n",
    "        neighbor_distances_and_indices.append((distance, index))\n",
    "\n",
    "    # 4. Sort the ordered collection of distances and indices from\n",
    "    # smallest to largest (in ascending order) by the distances\n",
    "    sorted_neighbor_distances_and_indices = sorted(neighbor_distances_and_indices)\n",
    "\n",
    "    # 5. Pick the first K entries from the sorted collection\n",
    "    k_nearest_distances_and_indices = sorted_neighbor_distances_and_indices[:k]\n",
    "\n",
    "    # 6. Get the labels of the selected K entries\n",
    "    k_nearest_labels = [data[i][-1] for distance, i in k_nearest_distances_and_indices]\n",
    "\n",
    "    # 7. If regression (choice_fn = mean), return the average of the K labels\n",
    "    # 8. If classification (choice_fn = mode), return the mode of the K labels\n",
    "    return k_nearest_distances_and_indices , choice_fn(k_nearest_labels)\n",
    "\n",
    "def mean(labels):\n",
    "    return sum(labels) / len(labels)\n",
    "\n",
    "def mode(labels):\n",
    "    return Counter(labels).most_common(1)[0][0]\n",
    "\n",
    "def euclidean_distance(point1, point2):\n",
    "    sum_squared_distance = 0\n",
    "    for i in range(len(point1)):\n",
    "        sum_squared_distance += math.pow(point1[i] - point2[i], 2)\n",
    "    return math.sqrt(sum_squared_distance)"
   ]
  },
  {
   "cell_type": "markdown",
   "metadata": {},
   "source": [
    "Exemple de régression :"
   ]
  },
  {
   "cell_type": "code",
   "execution_count": 4,
   "metadata": {},
   "outputs": [
    {
     "name": "stdout",
     "output_type": "stream",
     "text": [
      "138.14666666666668\n"
     ]
    }
   ],
   "source": [
    "'''\n",
    "# Regression Data\n",
    "#\n",
    "# Column 0: height (inches)\n",
    "# Column 1: weight (pounds)\n",
    "'''\n",
    "reg_data = [\n",
    "       [65.75, 112.99],\n",
    "       [71.52, 136.49],\n",
    "       [69.40, 153.03],\n",
    "       [68.22, 142.34],\n",
    "       [67.79, 144.30],\n",
    "       [68.70, 123.30],\n",
    "       [69.80, 141.49],\n",
    "       [70.01, 136.46],\n",
    "       [67.90, 112.37],\n",
    "       [66.49, 127.45],\n",
    "    ]\n",
    "\n",
    "# Question:\n",
    "# Given the data we have, what's the best-guess at someone's weight if they are 60 inches tall?\n",
    "reg_query = [71.52]\n",
    "reg_k_nearest_neighbors, reg_prediction = knn(reg_data, reg_query, k=3, distance_fn=euclidean_distance, choice_fn=mean)\n",
    "print(reg_prediction)"
   ]
  },
  {
   "cell_type": "markdown",
   "metadata": {},
   "source": [
    "```\n",
    "## 128.24666666666667\n",
    "```"
   ]
  },
  {
   "cell_type": "markdown",
   "metadata": {},
   "source": [
    "Exemple de classification :"
   ]
  },
  {
   "cell_type": "code",
   "execution_count": 31,
   "metadata": {},
   "outputs": [
    {
     "name": "stdout",
     "output_type": "stream",
     "text": [
      "1\n"
     ]
    }
   ],
   "source": [
    "'''\n",
    "# Classification Data\n",
    "#\n",
    "# Column 0: age\n",
    "# Column 1: likes pineapple\n",
    "'''\n",
    "clf_data = [\n",
    "       [1, 22, 1],\n",
    "       [1, 23, 1],\n",
    "       [0, 21, 1],\n",
    "       [0, 18, 1],\n",
    "       [1, 19, 1],\n",
    "       [1, 0, 0],\n",
    "       [0, 27, 0],\n",
    "       [1, 29, 0],\n",
    "       [0, 31, 0],\n",
    "       [1, 45, 0],\n",
    "    ]\n",
    "\n",
    "movies_recommendation_data = []\n",
    "for row in clf_data:\n",
    "    data_row = list(map(int, row[0:]))\n",
    "    movies_recommendation_data.append(data_row)\n",
    "\n",
    "# Question:\n",
    "# Given the data we have, does a 33 year old like pineapples?\n",
    "clf_query = [1, 19]\n",
    "clf_k_nearest_neighbors, clf_prediction = knn(movies_recommendation_data, clf_query, k=5, distance_fn=euclidean_distance, choice_fn=mode)\n",
    "print(clf_prediction)"
   ]
  },
  {
   "cell_type": "markdown",
   "metadata": {},
   "source": [
    "```\n",
    "## 0\n",
    "```"
   ]
  },
  {
   "cell_type": "markdown",
   "metadata": {},
   "source": [
    "# Comment choisir une bonne valeur de 'K' :\n",
    "\n",
    "- Lorsque nous réduisons la valeur de 'K' à 1, nos prédictions deviennent moins stables.\n",
    "- Inversement, à mesure que nous augmentons la valeur de 'K', nos prédictions deviennent plus stables en raison du vote majoritaire / du calcul de la moyenne, et donc, plus susceptibles de faire des prédictions plus précises (jusqu'à un certain point). Finalement, nous commençons à constater un nombre croissant d'erreurs. C'est à ce moment-là que nous savons que nous avons poussé la valeur de 'K' trop loin.\n",
    "- Dans le cas d'un vote à la majorité (par exemple dans un problème de classification) parmi les étiquettes, nous choisissons généralement un nombre impair pour K afin de pouvoir trancher."
   ]
  },
  {
   "cell_type": "markdown",
   "metadata": {},
   "source": [
    "Le principal inconvénient de l'algorithme KNN est qu'il devient nettement plus lent à mesure que le volume de données augmente, ce qui en fait un choix peu efficace dans les environnements où les prédictions doivent être faites rapidement. De plus, il existe des algorithmes plus rapides qui peuvent produire des résultats de classification et de régression plus précis."
   ]
  },
  {
   "cell_type": "markdown",
   "metadata": {},
   "source": [
    "# Systèmes de recommandations\n",
    "\n",
    "Comment recommander des produits sur Amazon, des films sur Netflix ou des vidéos sur YouTube ? Bien que nous puissions être certains qu'ils utilisent des moyens plus efficaces pour faire des recommandations en raison de l'énorme volume de données qu'ils traitent, nous pouvons reproduire l'un de ces systèmes de recommandation à plus petite échelle.\n",
    "\n",
    "Construisons le noyau d'un système de recommandation de films.\n",
    "\n",
    "Les données dans le fichier `movies_recommendation_data.csv` sont un exemple de ce à quoi pourraient ressembler la base de notre système de recommandation. Les données contiennent trente films, y compris des données pour chaque film à travers sept genres et leurs évaluations IMDB. La colonne des étiquettes contient tous les zéros car nous n'utilisons pas cet ensemble de données pour la classification ou la régression."
   ]
  },
  {
   "cell_type": "markdown",
   "metadata": {},
   "source": [
    "Imaginez un instant. Nous naviguons sur le site MoviesXb, un spin-off IMDb fictif, et nous rencontrons \"The Post\". Nous ne sommes pas sûrs de vouloir le regarder, mais son genre nous intrigue ; nous sommes curieux de voir d'autres films similaires. Nous descendons jusqu'à la section \"More Like This\" pour voir quelles recommandations MoviesXb fera, et l'engrenage algorithmique commence à tourner.\n",
    "Le site Web de MoviesXb envoie une requête à son back-end pour obtenir les 5 films les plus similaires à The Post. Le back-end dispose d'un ensemble de données de recommandation exactement comme le nôtre. Il commence par créer la représentation en ligne (mieux connue sous le nom de vecteur de caractéristiques) pour \"The Post\", puis il exécute un programme similaire à celui présenté ci-dessous pour rechercher les 5 films les plus similaires à \"The Post\", et renvoie enfin les résultats au site Web MoviesXb.\n"
   ]
  },
  {
   "cell_type": "code",
   "execution_count": null,
   "metadata": {},
   "outputs": [
    {
     "name": "stdout",
     "output_type": "stream",
     "text": [
      "[(0.09999999999999964, 19), (0.10000000000000053, 26), (0.20000000000000018, 14), (0.7000000000000002, 8), (0.7999999999999998, 22)]\n",
      "The Fountain\n",
      "Spirit: Stallion of the Cimarron\n",
      "Black Panther\n",
      "Avatar\n",
      "The Terminator\n"
     ]
    }
   ],
   "source": [
    "def recommend_movies(movie_query, k_recommendations):\n",
    "    raw_movies_data = []\n",
    "    with open('movies_recommendation_data.csv', 'r') as md:\n",
    "        # Discard the first line (headings)\n",
    "        \n",
    "        next(md)\n",
    "\n",
    "        # Read the data into memory\n",
    "        for line in md.readlines():\n",
    "            data_row = line.strip().split(',')\n",
    "            raw_movies_data.append(data_row)\n",
    "\n",
    "    # Prepare the data for use in the knn algorithm by picking\n",
    "    # the relevant columns and converting the numeric columns\n",
    "    # to numbers since they were read in as strings\n",
    "    movies_recommendation_data = []\n",
    "    for row in raw_movies_data:\n",
    "        data_row = list(map(float, row[2:]))\n",
    "        movies_recommendation_data.append(data_row)\n",
    "\n",
    "    # Use the KNN algorithm to get the 5 movies that are most\n",
    "    # similar to The Post.\n",
    "    recommendation_indices, _ = knn(\n",
    "        movies_recommendation_data, movie_query, k=k_recommendations,\n",
    "        distance_fn=euclidean_distance, choice_fn=lambda x: None\n",
    "    )\n",
    "    print(recommendation_indices)\n",
    "\n",
    "    movie_recommendations = []\n",
    "    for _, index in recommendation_indices:\n",
    "        movie_recommendations.append(raw_movies_data[index])\n",
    "\n",
    "    return movie_recommendations\n",
    "\n",
    "if __name__ == '__main__':\n",
    "    the_post = [7.2, 0, 0, 0, 0, 0, 0, 0, 0] # feature vector for The Post\n",
    "    recommended_movies = recommend_movies(movie_query=the_post, k_recommendations=5)\n",
    "\n",
    "    # Print recommended movie titles\n",
    "    for recommendation in recommended_movies:\n",
    "        print(recommendation[1])\n"
   ]
  },
  {
   "cell_type": "markdown",
   "metadata": {},
   "source": [
    "```\n",
    "## 12 Years a Slave\n",
    "## Hacksaw Ridge\n",
    "## Queen of Katwe\n",
    "## The Wind Rises\n",
    "## A Beautiful Mind\n",
    "```"
   ]
  },
  {
   "cell_type": "markdown",
   "metadata": {},
   "source": [
    "Voici comment l'algorithme KNN en est arrivé à faire des recommandations.\n",
    "\n",
    "Félicitations !"
   ]
  }
 ],
 "metadata": {
  "kernelspec": {
   "display_name": "Python 3",
   "language": "python",
   "name": "python3"
  },
  "language_info": {
   "codemirror_mode": {
    "name": "ipython",
    "version": 3
   },
   "file_extension": ".py",
   "mimetype": "text/x-python",
   "name": "python",
   "nbconvert_exporter": "python",
   "pygments_lexer": "ipython3",
   "version": "3.10.7"
  },
  "orig_nbformat": 4,
  "vscode": {
   "interpreter": {
    "hash": "916dbcbb3f70747c44a77c7bcd40155683ae19c65e1c03b4aa3499c5328201f1"
   }
  }
 },
 "nbformat": 4,
 "nbformat_minor": 2
}
